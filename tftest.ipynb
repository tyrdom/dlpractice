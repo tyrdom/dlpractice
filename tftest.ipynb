{
 "cells": [
  {
   "cell_type": "code",
   "execution_count": 8,
   "metadata": {},
   "outputs": [
    {
     "name": "stdout",
     "output_type": "stream",
     "text": [
      "[[   6.2   29. ]\n",
      " [   9.5   44. ]\n",
      " [  10.5   36. ]\n",
      " [   7.7   37. ]\n",
      " [   8.6   53. ]\n",
      " [  34.1   68. ]\n",
      " [  11.    75. ]\n",
      " [   6.9   18. ]\n",
      " [   7.3   31. ]\n",
      " [  15.1   25. ]\n",
      " [  29.1   34. ]\n",
      " [   2.2   14. ]\n",
      " [   5.7   11. ]\n",
      " [   2.    11. ]\n",
      " [   2.5   22. ]\n",
      " [   4.    16. ]\n",
      " [   5.4   27. ]\n",
      " [   2.2    9. ]\n",
      " [   7.2   29. ]\n",
      " [  15.1   30. ]\n",
      " [  16.5   40. ]\n",
      " [  18.4   32. ]\n",
      " [  36.2   41. ]\n",
      " [  39.7  147. ]\n",
      " [  18.5   22. ]\n",
      " [  23.3   29. ]\n",
      " [  12.2   46. ]\n",
      " [   5.6   23. ]\n",
      " [  21.8    4. ]\n",
      " [  21.6   31. ]\n",
      " [   9.    39. ]\n",
      " [   3.6   15. ]\n",
      " [   5.    32. ]\n",
      " [  28.6   27. ]\n",
      " [  17.4   32. ]\n",
      " [  11.3   34. ]\n",
      " [   3.4   17. ]\n",
      " [  11.9   46. ]\n",
      " [  10.5   42. ]\n",
      " [  10.7   43. ]\n",
      " [  10.8   34. ]\n",
      " [   4.8   19. ]]\n"
     ]
    }
   ],
   "source": [
    "import os\n",
    "os.environ['TF_CPP_MIN_LOG_LEVEL']='2'\n",
    "\n",
    "import numpy as np\n",
    "import matplotlib.pyplot as plt\n",
    "import tensorflow as tf\n",
    "import xlrd\n",
    "\n",
    "import docutils\n",
    "\n",
    "DATA_FILE = 'data/fire_theft.xls'\n",
    "\n",
    "# Phase 1: Assemble the graph\n",
    "# Step 1: read in data from the .xls file\n",
    "book = xlrd.open_workbook(DATA_FILE, encoding_override='utf-8')\n",
    "sheet = book.sheet_by_index(0)\n",
    "data = np.asarray([sheet.row_values(i) for i in range(1, sheet.nrows)])\n",
    "n_samples = sheet.nrows - 1\n",
    "print(data)"
   ]
  },
  {
   "cell_type": "code",
   "execution_count": 10,
   "metadata": {},
   "outputs": [
    {
     "name": "stdout",
     "output_type": "stream",
     "text": [
      "Tensor(\"X_1:0\", dtype=float32)\n"
     ]
    }
   ],
   "source": [
    "# Step 2: create placeholders for input X (number of fire) and label Y (number of theft)\n",
    "# Both have the type float32\n",
    "X = tf.placeholder(tf.float32,name = 'X')\n",
    "Y = tf.placeholder(tf.float32,name = 'Y')"
   ]
  },
  {
   "cell_type": "code",
   "execution_count": null,
   "metadata": {
    "collapsed": true
   },
   "outputs": [],
   "source": []
  }
 ],
 "metadata": {
  "kernelspec": {
   "display_name": "Python 3",
   "language": "python",
   "name": "python3"
  },
  "language_info": {
   "codemirror_mode": {
    "name": "ipython",
    "version": 3
   },
   "file_extension": ".py",
   "mimetype": "text/x-python",
   "name": "python",
   "nbconvert_exporter": "python",
   "pygments_lexer": "ipython3",
   "version": "3.6.2"
  }
 },
 "nbformat": 4,
 "nbformat_minor": 2
}
